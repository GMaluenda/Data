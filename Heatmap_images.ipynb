{
 "cells": [
  {
   "cell_type": "markdown",
   "metadata": {},
   "source": [
    "# Heatmap"
   ]
  },
  {
   "cell_type": "markdown",
   "metadata": {},
   "source": [
    "Conseguir el heatmaps com a imatges per utilitzar a la CNN"
   ]
  },
  {
   "cell_type": "code",
   "execution_count": 1,
   "metadata": {},
   "outputs": [],
   "source": [
    "import pandas as pd\n",
    "import matplotlib.pyplot as plt\n",
    "import numpy as np\n",
    "from scipy.ndimage import gaussian_filter"
   ]
  },
  {
   "cell_type": "code",
   "execution_count": 2,
   "metadata": {},
   "outputs": [],
   "source": [
    "df = pd.read_csv('S0_csv')"
   ]
  },
  {
   "cell_type": "code",
   "execution_count": 12,
   "metadata": {},
   "outputs": [
    {
     "name": "stdout",
     "output_type": "stream",
     "text": [
      "timestamp                 44.495969\n",
      "gaze2d_x                   0.453520\n",
      "gaze2d_y                   0.446715\n",
      "eyeleft_pupildiameter      3.063118\n",
      "eyeright_pupildiameter     3.071837\n",
      "Name: 0.035, dtype: float64\n",
      "timestamp                 1239.216682\n",
      "gaze2d_x                     0.590713\n",
      "gaze2d_y                     0.650877\n",
      "eyeleft_pupildiameter        4.030552\n",
      "eyeright_pupildiameter       4.098251\n",
      "Name: 0.975, dtype: float64\n"
     ]
    }
   ],
   "source": [
    "lim_inferior = df.quantile(q=0.035)\n",
    "lim_superior = df.quantile(q=0.975)\n",
    "print(lim_inferior)\n",
    "print(lim_superior)"
   ]
  },
  {
   "cell_type": "code",
   "execution_count": 9,
   "metadata": {},
   "outputs": [
    {
     "data": {
      "image/png": "[encoded data removed]",
      "text/plain": [
       "<Figure size 640x480 with 1 Axes>"
      ]
     },
     "metadata": {},
     "output_type": "display_data"
    }
   ],
   "source": [
    "x = df['gaze2d_x'][300:360]  #Canviar a 10,...\n",
    "y = df['gaze2d_y'][300:360]\n",
    "\n",
    "# Per calcular els rangs\n",
    "lim_inferior = df.quantile(q=0.025)\n",
    "lim_superior = df.quantile(q=0.975)\n",
    "rang = (lim_inferior.iloc[1], lim_superior.iloc[1]),(lim_inferior.iloc[2], lim_superior.iloc[2])\n",
    "\n",
    "for i in range(300,10000):\n",
    "    x = df['gaze2d_x'][i:i+25]\n",
    "    y = df['gaze2d_y'][i:i+25]\n",
    "    heatmap, x_edges, y_edges = np.histogram2d(x, y, bins=(100,100), range= rang)\n",
    "    gaussia_heatmap = gaussian_filter(heatmap, 2)\n",
    "    plt.imshow(gaussia_heatmap, cmap='inferno')\n",
    "    plt.imsave('HM_images/hm_'+str(i)+'.png', gaussia_heatmap, cmap='inferno')"
   ]
  },
  {
   "cell_type": "code",
   "execution_count": 4,
   "metadata": {},
   "outputs": [
    {
     "data": {
      "text/plain": [
       "(1.2407395469533977, 1.6687516201671693)"
      ]
     },
     "execution_count": 4,
     "metadata": {},
     "output_type": "execute_result"
    }
   ],
   "source": [
    "heatmap, x_edges, y_edges = np.histogram2d(x, y, bins=(100,100), range= rang)\n",
    "sigma = (np.std(df['gaze2d_x'])*25, np.std(df['gaze2d_y'])*25)\n",
    "\n",
    "gaussia_heatmap = gaussian_filter(heatmap, sigma)\n",
    "sigma"
   ]
  },
  {
   "cell_type": "code",
   "execution_count": 6,
   "metadata": {},
   "outputs": [
    {
     "data": {
      "text/plain": [
       "<matplotlib.image.AxesImage at 0x7fc3121d7ed0>"
      ]
     },
     "execution_count": 6,
     "metadata": {},
     "output_type": "execute_result"
    },
    {
     "data": {
      "image/png": "[encoded data removed]",
      "text/plain": [
       "<Figure size 640x480 with 1 Axes>"
      ]
     },
     "metadata": {},
     "output_type": "display_data"
    }
   ],
   "source": [
    "plt.imshow(gaussia_heatmap, cmap='inferno', interpolation='gaussian')\n"
   ]
  },
  {
   "cell_type": "code",
   "execution_count": 119,
   "metadata": {},
   "outputs": [
    {
     "data": {
      "text/html": [
       "<div>\n",
       "<style scoped>\n",
       "    .dataframe tbody tr th:only-of-type {\n",
       "        vertical-align: middle;\n",
       "    }\n",
       "\n",
       "    .dataframe tbody tr th {\n",
       "        vertical-align: top;\n",
       "    }\n",
       "\n",
       "    .dataframe thead th {\n",
       "        text-align: right;\n",
       "    }\n",
       "</style>\n",
       "<table border=\"1\" class=\"dataframe\">\n",
       "  <thead>\n",
       "    <tr style=\"text-align: right;\">\n",
       "      <th></th>\n",
       "      <th>timestamp</th>\n",
       "      <th>gaze2d_x</th>\n",
       "      <th>gaze2d_y</th>\n",
       "      <th>eyeleft_pupildiameter</th>\n",
       "      <th>eyeright_pupildiameter</th>\n",
       "    </tr>\n",
       "  </thead>\n",
       "  <tbody>\n",
       "    <tr>\n",
       "      <th>0</th>\n",
       "      <td>0.044119</td>\n",
       "      <td>0.540835</td>\n",
       "      <td>0.487419</td>\n",
       "      <td>5.311900</td>\n",
       "      <td>5.358642</td>\n",
       "    </tr>\n",
       "    <tr>\n",
       "      <th>1</th>\n",
       "      <td>0.064209</td>\n",
       "      <td>0.541075</td>\n",
       "      <td>0.487463</td>\n",
       "      <td>5.312712</td>\n",
       "      <td>5.358128</td>\n",
       "    </tr>\n",
       "    <tr>\n",
       "      <th>2</th>\n",
       "      <td>0.084192</td>\n",
       "      <td>0.541212</td>\n",
       "      <td>0.487721</td>\n",
       "      <td>5.315170</td>\n",
       "      <td>5.355756</td>\n",
       "    </tr>\n",
       "    <tr>\n",
       "      <th>3</th>\n",
       "      <td>0.104281</td>\n",
       "      <td>0.541327</td>\n",
       "      <td>0.488020</td>\n",
       "      <td>5.317843</td>\n",
       "      <td>5.353019</td>\n",
       "    </tr>\n",
       "    <tr>\n",
       "      <th>4</th>\n",
       "      <td>0.124264</td>\n",
       "      <td>0.541634</td>\n",
       "      <td>0.488274</td>\n",
       "      <td>5.319236</td>\n",
       "      <td>5.349982</td>\n",
       "    </tr>\n",
       "    <tr>\n",
       "      <th>...</th>\n",
       "      <td>...</td>\n",
       "      <td>...</td>\n",
       "      <td>...</td>\n",
       "      <td>...</td>\n",
       "      <td>...</td>\n",
       "    </tr>\n",
       "    <tr>\n",
       "      <th>21926</th>\n",
       "      <td>440.901779</td>\n",
       "      <td>0.000000</td>\n",
       "      <td>0.000000</td>\n",
       "      <td>0.000000</td>\n",
       "      <td>0.000000</td>\n",
       "    </tr>\n",
       "    <tr>\n",
       "      <th>21927</th>\n",
       "      <td>440.921762</td>\n",
       "      <td>0.000000</td>\n",
       "      <td>0.000000</td>\n",
       "      <td>0.000000</td>\n",
       "      <td>0.000000</td>\n",
       "    </tr>\n",
       "    <tr>\n",
       "      <th>21928</th>\n",
       "      <td>440.941851</td>\n",
       "      <td>0.000000</td>\n",
       "      <td>0.000000</td>\n",
       "      <td>0.000000</td>\n",
       "      <td>0.000000</td>\n",
       "    </tr>\n",
       "    <tr>\n",
       "      <th>21929</th>\n",
       "      <td>440.961834</td>\n",
       "      <td>0.000000</td>\n",
       "      <td>0.000000</td>\n",
       "      <td>0.000000</td>\n",
       "      <td>0.000000</td>\n",
       "    </tr>\n",
       "    <tr>\n",
       "      <th>21930</th>\n",
       "      <td>440.981924</td>\n",
       "      <td>0.000000</td>\n",
       "      <td>0.000000</td>\n",
       "      <td>0.000000</td>\n",
       "      <td>0.000000</td>\n",
       "    </tr>\n",
       "  </tbody>\n",
       "</table>\n",
       "<p>21931 rows × 5 columns</p>\n",
       "</div>"
      ],
      "text/plain": [
       "        timestamp  gaze2d_x  gaze2d_y  eyeleft_pupildiameter  \\\n",
       "0        0.044119  0.540835  0.487419               5.311900   \n",
       "1        0.064209  0.541075  0.487463               5.312712   \n",
       "2        0.084192  0.541212  0.487721               5.315170   \n",
       "3        0.104281  0.541327  0.488020               5.317843   \n",
       "4        0.124264  0.541634  0.488274               5.319236   \n",
       "...           ...       ...       ...                    ...   \n",
       "21926  440.901779  0.000000  0.000000               0.000000   \n",
       "21927  440.921762  0.000000  0.000000               0.000000   \n",
       "21928  440.941851  0.000000  0.000000               0.000000   \n",
       "21929  440.961834  0.000000  0.000000               0.000000   \n",
       "21930  440.981924  0.000000  0.000000               0.000000   \n",
       "\n",
       "       eyeright_pupildiameter  \n",
       "0                    5.358642  \n",
       "1                    5.358128  \n",
       "2                    5.355756  \n",
       "3                    5.353019  \n",
       "4                    5.349982  \n",
       "...                       ...  \n",
       "21926                0.000000  \n",
       "21927                0.000000  \n",
       "21928                0.000000  \n",
       "21929                0.000000  \n",
       "21930                0.000000  \n",
       "\n",
       "[21931 rows x 5 columns]"
      ]
     },
     "execution_count": 119,
     "metadata": {},
     "output_type": "execute_result"
    }
   ],
   "source": [
    "df"
   ]
  },
  {
   "cell_type": "code",
   "execution_count": 115,
   "metadata": {},
   "outputs": [
    {
     "ename": "TypeError",
     "evalue": "imsave() got an unexpected keyword argument 'interpolation'",
     "output_type": "error",
     "traceback": [
      "\u001b[0;31m---------------------------------------------------------------------------\u001b[0m",
      "\u001b[0;31mTypeError\u001b[0m                                 Traceback (most recent call last)",
      "\u001b[1;32m/home/gmaluenda/Desktop/Heatmap_images.ipynb Cell 9\u001b[0m line \u001b[0;36m1\n\u001b[0;32m----> <a href='vscode-notebook-cell:/home/gmaluenda/Desktop/Heatmap_images.ipynb#X13sZmlsZQ%3D%3D?line=0'>1</a>\u001b[0m plt\u001b[39m.\u001b[39;49mimsave(\u001b[39m'\u001b[39;49m\u001b[39mHM_images/hm_\u001b[39;49m\u001b[39m'\u001b[39;49m\u001b[39m+\u001b[39;49m\u001b[39mstr\u001b[39;49m(i)\u001b[39m+\u001b[39;49m\u001b[39m'\u001b[39;49m\u001b[39m.png\u001b[39;49m\u001b[39m'\u001b[39;49m, gaussia_heatmap, cmap\u001b[39m=\u001b[39;49m\u001b[39m'\u001b[39;49m\u001b[39minferno\u001b[39;49m\u001b[39m'\u001b[39;49m, interpolation\u001b[39m=\u001b[39;49m\u001b[39m'\u001b[39;49m\u001b[39mgaussian\u001b[39;49m\u001b[39m'\u001b[39;49m)\n",
      "File \u001b[0;32m~/miniconda3/lib/python3.11/site-packages/matplotlib/pyplot.py:2200\u001b[0m, in \u001b[0;36mimsave\u001b[0;34m(fname, arr, **kwargs)\u001b[0m\n\u001b[1;32m   2198\u001b[0m \u001b[39m@_copy_docstring_and_deprecators\u001b[39m(matplotlib\u001b[39m.\u001b[39mimage\u001b[39m.\u001b[39mimsave)\n\u001b[1;32m   2199\u001b[0m \u001b[39mdef\u001b[39;00m \u001b[39mimsave\u001b[39m(fname, arr, \u001b[39m*\u001b[39m\u001b[39m*\u001b[39mkwargs):\n\u001b[0;32m-> 2200\u001b[0m     \u001b[39mreturn\u001b[39;00m matplotlib\u001b[39m.\u001b[39;49mimage\u001b[39m.\u001b[39;49mimsave(fname, arr, \u001b[39m*\u001b[39;49m\u001b[39m*\u001b[39;49mkwargs)\n",
      "\u001b[0;31mTypeError\u001b[0m: imsave() got an unexpected keyword argument 'interpolation'"
     ]
    }
   ],
   "source": [
    "plt.imsave('HM_images/hm_'+str(i)+'.png', gaussia_heatmap, cmap='inferno', interpolation='gaussian')"
   ]
  },
  {
   "cell_type": "code",
   "execution_count": 85,
   "metadata": {},
   "outputs": [],
   "source": []
  },
  {
   "cell_type": "code",
   "execution_count": null,
   "metadata": {},
   "outputs": [],
   "source": []
  },
  {
   "cell_type": "code",
   "execution_count": 60,
   "metadata": {},
   "outputs": [
    {
     "data": {
      "text/plain": [
       "(array([[0., 0., 0., ..., 0., 0., 0.],\n",
       "        [0., 0., 0., ..., 0., 0., 0.],\n",
       "        [0., 0., 0., ..., 0., 0., 0.],\n",
       "        ...,\n",
       "        [0., 0., 0., ..., 0., 0., 0.],\n",
       "        [0., 0., 0., ..., 0., 0., 0.],\n",
       "        [0., 0., 0., ..., 0., 0., 0.]]),\n",
       " array([0.  , 0.01, 0.02, 0.03, 0.04, 0.05, 0.06, 0.07, 0.08, 0.09, 0.1 ,\n",
       "        0.11, 0.12, 0.13, 0.14, 0.15, 0.16, 0.17, 0.18, 0.19, 0.2 , 0.21,\n",
       "        0.22, 0.23, 0.24, 0.25, 0.26, 0.27, 0.28, 0.29, 0.3 , 0.31, 0.32,\n",
       "        0.33, 0.34, 0.35, 0.36, 0.37, 0.38, 0.39, 0.4 , 0.41, 0.42, 0.43,\n",
       "        0.44, 0.45, 0.46, 0.47, 0.48, 0.49, 0.5 , 0.51, 0.52, 0.53, 0.54,\n",
       "        0.55, 0.56, 0.57, 0.58, 0.59, 0.6 , 0.61, 0.62, 0.63, 0.64, 0.65,\n",
       "        0.66, 0.67, 0.68, 0.69, 0.7 , 0.71, 0.72, 0.73, 0.74, 0.75, 0.76,\n",
       "        0.77, 0.78, 0.79, 0.8 , 0.81, 0.82, 0.83, 0.84, 0.85, 0.86, 0.87,\n",
       "        0.88, 0.89, 0.9 , 0.91, 0.92, 0.93, 0.94, 0.95, 0.96, 0.97, 0.98,\n",
       "        0.99, 1.  ]),\n",
       " array([0.  , 0.01, 0.02, 0.03, 0.04, 0.05, 0.06, 0.07, 0.08, 0.09, 0.1 ,\n",
       "        0.11, 0.12, 0.13, 0.14, 0.15, 0.16, 0.17, 0.18, 0.19, 0.2 , 0.21,\n",
       "        0.22, 0.23, 0.24, 0.25, 0.26, 0.27, 0.28, 0.29, 0.3 , 0.31, 0.32,\n",
       "        0.33, 0.34, 0.35, 0.36, 0.37, 0.38, 0.39, 0.4 , 0.41, 0.42, 0.43,\n",
       "        0.44, 0.45, 0.46, 0.47, 0.48, 0.49, 0.5 , 0.51, 0.52, 0.53, 0.54,\n",
       "        0.55, 0.56, 0.57, 0.58, 0.59, 0.6 , 0.61, 0.62, 0.63, 0.64, 0.65,\n",
       "        0.66, 0.67, 0.68, 0.69, 0.7 , 0.71, 0.72, 0.73, 0.74, 0.75, 0.76,\n",
       "        0.77, 0.78, 0.79, 0.8 , 0.81, 0.82, 0.83, 0.84, 0.85, 0.86, 0.87,\n",
       "        0.88, 0.89, 0.9 , 0.91, 0.92, 0.93, 0.94, 0.95, 0.96, 0.97, 0.98,\n",
       "        0.99, 1.  ]),\n",
       " <matplotlib.collections.QuadMesh at 0x7f3e50873d10>)"
      ]
     },
     "execution_count": 60,
     "metadata": {},
     "output_type": "execute_result"
    },
    {
     "data": {
      "image/png": "[encoded data removed]",
      "text/plain": [
       "<Figure size 640x480 with 1 Axes>"
      ]
     },
     "metadata": {},
     "output_type": "display_data"
    }
   ],
   "source": [
    "plt.hist2d(x,y, bins = (100,100), cmap='inferno', range= ((0,1),(0,1)))"
   ]
  },
  {
   "cell_type": "code",
   "execution_count": 57,
   "metadata": {},
   "outputs": [
    {
     "data": {
      "text/plain": [
       "<matplotlib.image.AxesImage at 0x7f3e506205d0>"
      ]
     },
     "execution_count": 57,
     "metadata": {},
     "output_type": "execute_result"
    },
    {
     "data": {
      "image/png": "[encoded data removed]",
      "text/plain": [
       "<Figure size 640x480 with 1 Axes>"
      ]
     },
     "metadata": {},
     "output_type": "display_data"
    }
   ],
   "source": [
    "hist , x_edge, y_edge = np.histogram2d(df['gaze2d_x'],df['gaze2d_y'],bins=(100,100))\n",
    "\n",
    "plt.imshow(hist, cmap='inferno')\n"
   ]
  },
  {
   "cell_type": "code",
   "execution_count": 54,
   "metadata": {},
   "outputs": [],
   "source": [
    "plt.imsave('HM_images/hola.png', hist, cmap='inferno')"
   ]
  }
 ],
 "metadata": {
  "kernelspec": {
   "display_name": "base",
   "language": "python",
   "name": "python3"
  },
  "language_info": {
   "codemirror_mode": {
    "name": "ipython",
    "version": 3
   },
   "file_extension": ".py",
   "mimetype": "text/x-python",
   "name": "python",
   "nbconvert_exporter": "python",
   "pygments_lexer": "ipython3",
   "version": "3.11.4"
  },
  "orig_nbformat": 4
 },
 "nbformat": 4,
 "nbformat_minor": 2
}
